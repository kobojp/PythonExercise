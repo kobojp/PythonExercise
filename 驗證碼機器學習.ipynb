{
 "cells": [
  {
   "cell_type": "markdown",
   "execution_count": null,
   "metadata": {},
   "outputs": [],
   "source": [
    "教學影片 https://www.youtube.com/watch?v=dcvTM4O0wiM"
   ]
  },
  {
   "cell_type": "markdown",
   "execution_count": null,
   "metadata": {},
   "outputs": [],
   "source": [
    "程式碼\n",
    "https://github.com/ywchiu/largitdata/blob/master/code/Course_92.ipynb"
   ]
  },
  {
   "cell_type": "code",
   "execution_count": 1,
   "metadata": {},
   "outputs": [
    {
     "data": {
      "image/png": "[encoded data removed]",
      "text/plain": [
       "<PIL.PngImagePlugin.PngImageFile image mode=RGB size=759x203 at 0x1E0504CEDC8>"
      ]
     },
     "execution_count": 1,
     "metadata": {},
     "output_type": "execute_result"
    }
   ],
   "source": [
    "#開啟圖片\n",
    "from PIL import Image\n",
    "Image.open(\"./media/intimg.jpg\")"
   ]
  },
  {
   "cell_type": "code",
   "execution_count": 2,
   "metadata": {
    "slideshow": {
     "slide_type": "slide"
    }
   },
   "outputs": [],
   "source": [
    "import cv2"
   ]
  },
  {
   "cell_type": "code",
   "execution_count": 14,
   "metadata": {
    "slideshow": {
     "slide_type": "slide"
    }
   },
   "outputs": [],
   "source": [
    "im = cv2.imread(\"./media/intimg.jpg\")\n",
    "im_gray = cv2.cvtColor(im, cv2.COLOR_BGR2GRAY)"
   ]
  },
  {
   "cell_type": "code",
   "execution_count": 151,
   "metadata": {},
   "outputs": [],
   "source": [
    "cv2.namedWindow(\"Image\")  \n",
    "cv2.imshow(\"Image\", im) #顯示圖形 \n",
    "cv2.waitKey (0) \n",
    "cv2.destroyWindow(\"Image\")\n"
   ]
  },
  {
   "cell_type": "code",
   "execution_count": 6,
   "metadata": {},
   "outputs": [
    {
     "name": "stdout",
     "output_type": "stream",
     "text": [
      "Object `cv2.fastNlMeansDenoisingColored(im, None, 10, 10, 7, 21)` not found.\n"
     ]
    }
   ],
   "source": [
    "import matplotlib.pyplot as plt\n",
    "# df = \n",
    "?cv2.fastNlMeansDenoisingColored(im, None, 10, 10, 7, 21)\n",
    "# plt.subplot(120) #一定要三個組成\n",
    "# plt.show(df)\n"
   ]
  },
  {
   "cell_type": "markdown",
   "metadata": {},
   "source": [
    "# 照著做教學\n",
    "影片 \n",
    "> https://www.youtube.com/watch?v=dcvTM4O0wiM \n",
    "  https://www.youtube.com/watch?v=sy3RBqeDNoY\n"
   ]
  },
  {
   "cell_type": "code",
   "execution_count": 2,
   "metadata": {},
   "outputs": [],
   "source": [
    "import cv2"
   ]
  },
  {
   "cell_type": "code",
   "execution_count": 3,
   "metadata": {},
   "outputs": [],
   "source": [
    "import requests"
   ]
  },
  {
   "cell_type": "code",
   "execution_count": 4,
   "metadata": {},
   "outputs": [],
   "source": [
    "#線上抓取圖\n",
    "# with open('imgee.jfif', 'wb') as f: \n",
    "#     res = requests.get('htt')\n",
    "#     f.write(res.content)"
   ]
  },
  {
   "cell_type": "code",
   "execution_count": 5,
   "metadata": {},
   "outputs": [
    {
     "data": {
      "image/png": "[encoded data removed]",
      "text/plain": [
       "<PIL.PngImagePlugin.PngImageFile image mode=RGB size=759x203 at 0x1E06037FF88>"
      ]
     },
     "execution_count": 5,
     "metadata": {},
     "output_type": "execute_result"
    }
   ],
   "source": [
    "from PIL import Image\n",
    "imge = Image.open('./media/intimg.jpg')\n",
    "imge"
   ]
  },
  {
   "cell_type": "code",
   "execution_count": 6,
   "metadata": {},
   "outputs": [],
   "source": [
    "import PIL\n",
    "import numpy\n",
    "pil_image = PIL.Image.open('./media/intimg.jpg').convert('RGB')\n",
    "open_cv_image = numpy.array(pil_image)\n",
    "#open_cv_image"
   ]
  },
  {
   "cell_type": "code",
   "execution_count": 8,
   "metadata": {},
   "outputs": [
    {
     "name": "stdout",
     "output_type": "stream",
     "text": [
      "Populating the interactive namespace from numpy and matplotlib\n"
     ]
    },
    {
     "data": {
      "text/plain": [
       "<matplotlib.image.AxesImage at 0x1e05078de08>"
      ]
     },
     "execution_count": 8,
     "metadata": {},
     "output_type": "execute_result"
    },
    {
     "data": {
      "image/png": "[encoded data removed]",
      "text/plain": [
       "<Figure size 432x288 with 1 Axes>"
      ]
     },
     "metadata": {
      "needs_background": "light"
     },
     "output_type": "display_data"
    }
   ],
   "source": [
    "#魔法函式 只有jupyter才有用 直接印出圖片\n",
    "%pylab inline  \n",
    "from matplotlib import pyplot as plt\n",
    "plt.imshow(open_cv_image)"
   ]
  },
  {
   "cell_type": "code",
   "execution_count": 15,
   "metadata": {},
   "outputs": [
    {
     "data": {
      "text/plain": [
       "<matplotlib.image.AxesImage at 0x1e063abcc08>"
      ]
     },
     "execution_count": 15,
     "metadata": {},
     "output_type": "execute_result"
    },
    {
     "data": {
      "image/png": "[encoded data removed]",
      "text/plain": [
       "<Figure size 432x288 with 1 Axes>"
      ]
     },
     "metadata": {
      "needs_background": "light"
     },
     "output_type": "display_data"
    }
   ],
   "source": [
    "imgray = cv2.cvtColor(open_cv_image, cv2.COLOR_BGR2GRAY) #灰階\n",
    "ret, thresh = cv2.threshold(im_gray, 127, 255, 0) #找出輪廓\n",
    "#image, contours, hierarchy = cv2.findContours(thresh, cv2.RETR_TREE, cv2.CHAIN_APPROX_SIMPLE)\n",
    "contours, hierarchy = cv2.findContours(thresh, cv2.RETR_TREE, cv2.CHAIN_APPROX_SIMPLE) #找出輪廓\n",
    "plt.imshow(im_gray)\n"
   ]
  },
  {
   "cell_type": "code",
   "execution_count": 170,
   "metadata": {},
   "outputs": [],
   "source": [
    "#這個不相關是一個畫輪廓的方式\n",
    "# abc = cv2.drawContours(open_cv_image, contours, 3, (0,255,0), 3)\n",
    "# plt.imshow(abc)\n"
   ]
  },
  {
   "cell_type": "code",
   "execution_count": 24,
   "metadata": {},
   "outputs": [],
   "source": [
    "#根據輪廓XY做一個排序 #key 是用法的參數\n",
    "#sorted 可以對所有可迭代的對象進行排序操作\n",
    "#看一下sorted用法 https://www.runoob.com/python/python-func-sorted.html\n",
    "cnts = sorted(\n",
    "    [(c, cv2.boundingRect(c)[0]) for c in contours], key=lambda x:x[1]\n",
    ")\n"
   ]
  },
  {
   "cell_type": "code",
   "execution_count": 18,
   "metadata": {},
   "outputs": [
    {
     "name": "stdout",
     "output_type": "stream",
     "text": [
      "0 0 759 203\n",
      "115 52 48 76\n",
      "199 52 53 77\n",
      "215 95 22 22\n",
      "217 64 18 19\n",
      "288 52 53 77\n",
      "305 92 20 24\n",
      "373 53 56 75\n",
      "387 69 19 31\n",
      "463 52 53 77\n",
      "479 95 22 22\n",
      "481 64 18 19\n",
      "553 52 49 76\n"
     ]
    },
    {
     "data": {
      "text/plain": [
       "'\\n0 0 759 203\\n115 52 48 76\\n199 52 53 77\\n215 95 22 22\\n217 64 18 19\\n288 52 53 77\\n305 92 20 24\\n373 53 56 75\\n387 69 19 31\\n463 52 53 77\\n479 95 22 22\\n481 64 18 19\\n553 52 49 76\\n'"
      ]
     },
     "execution_count": 18,
     "metadata": {},
     "output_type": "execute_result"
    }
   ],
   "source": [
    "ary = []\n",
    "for (c,_) in cnts:\n",
    "    (x,y,w,h) = cv2.boundingRect(c)\n",
    "    print(x,y,w,h)\n",
    "    if w >= 48 and h ==75 or h == 76 or h == 77:\n",
    "        ary.append((x,y,w,h))\n",
    "#關於如何找需要的字 由寬與高觀察\n",
    "#以下順序由 X Y W H  順序排列的 觀察W與H 有六個數字必須找出六組 相近的\n",
    "#例如 最右邊為H 找出76 77 75 這些數字 而W找出與76同組的 48以上都是\n",
    "'''\n",
    "0 0 759 203\n",
    "115 52 48 76\n",
    "199 52 53 77\n",
    "215 95 22 22\n",
    "217 64 18 19\n",
    "288 52 53 77\n",
    "305 92 20 24\n",
    "373 53 56 75\n",
    "387 69 19 31\n",
    "463 52 53 77\n",
    "479 95 22 22\n",
    "481 64 18 19\n",
    "553 52 49 76\n",
    "'''"
   ]
  },
  {
   "cell_type": "code",
   "execution_count": 215,
   "metadata": {},
   "outputs": [
    {
     "name": "stdout",
     "output_type": "stream",
     "text": [
      "[(115, 52, 48, 76), (199, 52, 53, 77), (288, 52, 53, 77), (373, 53, 56, 75), (463, 52, 53, 77), (553, 52, 49, 76)]\n"
     ]
    }
   ],
   "source": [
    "\n",
    "print(ary)\n"
   ]
  },
  {
   "cell_type": "code",
   "execution_count": 218,
   "metadata": {},
   "outputs": [
    {
     "data": {
      "text/plain": [
       "<matplotlib.image.AxesImage at 0x1bddd090648>"
      ]
     },
     "execution_count": 218,
     "metadata": {},
     "output_type": "execute_result"
    },
    {
     "data": {
      "image/png": "[encoded data removed]",
      "text/plain": [
       "<Figure size 432x288 with 1 Axes>"
      ]
     },
     "metadata": {
      "needs_background": "light"
     },
     "output_type": "display_data"
    }
   ],
   "source": [
    "plt.imshow(open_cv_image)"
   ]
  },
  {
   "cell_type": "code",
   "execution_count": 236,
   "metadata": {},
   "outputs": [
    {
     "name": "stdout",
     "output_type": "stream",
     "text": [
      "AxesSubplot(0.125,0.125;0.110714x0.755)\n",
      "AxesSubplot(0.257857,0.125;0.110714x0.755)\n",
      "AxesSubplot(0.390714,0.125;0.110714x0.755)\n",
      "AxesSubplot(0.523571,0.125;0.110714x0.755)\n",
      "AxesSubplot(0.656429,0.125;0.110714x0.755)\n",
      "AxesSubplot(0.789286,0.125;0.110714x0.755)\n"
     ]
    },
    {
     "data": {
      "image/png": "[encoded data removed]",
      "text/plain": [
       "<Figure size 432x288 with 6 Axes>"
      ]
     },
     "metadata": {
      "needs_background": "light"
     },
     "output_type": "display_data"
    }
   ],
   "source": [
    "#切圖\n",
    "from matplotlib import pyplot as plt\n",
    "fig = plt.figure()\n",
    "for id, (x,y,w,h) in enumerate(ary):\n",
    "    roi = open_cv_image[y:y+h, x:x+w]\n",
    "    thresh = roi.copy()\n",
    "    a = fig.add_subplot(1, len(ary), id+1)\n",
    "    print(a)\n",
    "    plt.imshow(thresh)\n",
    "    #儲存圖片\n",
    "    #plt.savefig('./media/{}.png'.format(id+1), dpi=100)"
   ]
  },
  {
   "cell_type": "code",
   "execution_count": 235,
   "metadata": {},
   "outputs": [
    {
     "data": {
      "image/png": "[encoded data removed]",
      "text/plain": [
       "<Figure size 432x288 with 1 Axes>"
      ]
     },
     "metadata": {
      "needs_background": "light"
     },
     "output_type": "display_data"
    },
    {
     "data": {
      "image/png": "[encoded data removed]",
      "text/plain": [
       "<Figure size 432x288 with 1 Axes>"
      ]
     },
     "metadata": {
      "needs_background": "light"
     },
     "output_type": "display_data"
    },
    {
     "data": {
      "image/png": "[encoded data removed]",
      "text/plain": [
       "<Figure size 432x288 with 1 Axes>"
      ]
     },
     "metadata": {
      "needs_background": "light"
     },
     "output_type": "display_data"
    },
    {
     "data": {
      "image/png": "[encoded data removed]",
      "text/plain": [
       "<Figure size 432x288 with 1 Axes>"
      ]
     },
     "metadata": {
      "needs_background": "light"
     },
     "output_type": "display_data"
    },
    {
     "data": {
      "image/png": "[encoded data removed]",
      "text/plain": [
       "<Figure size 432x288 with 1 Axes>"
      ]
     },
     "metadata": {
      "needs_background": "light"
     },
     "output_type": "display_data"
    },
    {
     "data": {
      "image/png": "[encoded data removed]",
      "text/plain": [
       "<Figure size 432x288 with 1 Axes>"
      ]
     },
     "metadata": {
      "needs_background": "light"
     },
     "output_type": "display_data"
    }
   ],
   "source": [
    "from matplotlib import pyplot as plt\n",
    "\n",
    "for id, (x,y,w,h) in enumerate(ary):\n",
    "    fig = plt.figure()\n",
    "    roi = open_cv_image[y:y+h, x:x+w]\n",
    "    thresh = roi.copy()\n",
    "    plt.imshow(thresh)\n",
    "    #儲存圖片\n",
    "    #plt.savefig('./media/{}.png'.format(id+1), dpi=100)"
   ]
  },
  {
   "cell_type": "code",
   "execution_count": 211,
   "metadata": {},
   "outputs": [
    {
     "name": "stdout",
     "output_type": "stream",
     "text": [
      "2 3\n"
     ]
    }
   ],
   "source": [
    "a = 1\n",
    "b = 2\n",
    "a,b = b,a+b\n",
    "print(a,b)"
   ]
  },
  {
   "cell_type": "code",
   "execution_count": null,
   "metadata": {},
   "outputs": [],
   "source": []
  },
  {
   "cell_type": "code",
   "execution_count": 87,
   "metadata": {},
   "outputs": [
    {
     "data": {
      "text/plain": [
       "'32'"
      ]
     },
     "execution_count": 87,
     "metadata": {},
     "output_type": "execute_result"
    }
   ],
   "source": [
    "abc = random.randint(1,100)\n",
    "str(abc)"
   ]
  },
  {
   "cell_type": "code",
   "execution_count": null,
   "metadata": {},
   "outputs": [],
   "source": []
  }
 ],
 "metadata": {
  "kernelspec": {
   "display_name": "Python (myenv)",
   "language": "python",
   "name": "myenv"
  },
  "language_info": {
   "codemirror_mode": {
    "name": "ipython",
    "version": 3
   },
   "file_extension": ".py",
   "mimetype": "text/x-python",
   "name": "python",
   "nbconvert_exporter": "python",
   "pygments_lexer": "ipython3",
   "version": "3.7.6"
  },
  "varInspector": {
   "cols": {
    "lenName": 16,
    "lenType": 16,
    "lenVar": 40
   },
   "kernels_config": {
    "python": {
     "delete_cmd_postfix": "",
     "delete_cmd_prefix": "del ",
     "library": "var_list.py",
     "varRefreshCmd": "print(var_dic_list())"
    },
    "r": {
     "delete_cmd_postfix": ") ",
     "delete_cmd_prefix": "rm(",
     "library": "var_list.r",
     "varRefreshCmd": "cat(var_dic_list()) "
    }
   },
   "position": {
    "height": "340.99px",
    "left": "1576.99px",
    "right": "20px",
    "top": "126.997px",
    "width": "407.969px"
   },
   "types_to_exclude": [
    "module",
    "function",
    "builtin_function_or_method",
    "instance",
    "_Feature"
   ],
   "window_display": true
  }
 },
 "nbformat": 4,
 "nbformat_minor": 2
}