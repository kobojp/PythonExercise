{
 "cells": [
  {
   "cell_type": "code",
   "execution_count": 1,
   "metadata": {},
   "outputs": [],
   "source": [
    "import glob\n",
    "import re"
   ]
  },
  {
   "cell_type": "markdown",
   "metadata": {},
   "source": [
    "# 單純改資料 "
   ]
  },
  {
   "cell_type": "code",
   "execution_count": 2,
   "metadata": {},
   "outputs": [],
   "source": [
    " \n",
    "\n",
    "\"\"\"\n",
    "說明\n",
    "執行一次只找一筆資料，若你需要一個檔案修改多次，請for迴圈跑多次一點就可以解決\n",
    "\n",
    "file_name_list 為 檔案路徑\n",
    "\n",
    "head 文字的開頭\n",
    "tail 文字結尾\n",
    "\n",
    "假設要找文檔中的 ![圖片](http/:img.jpg)。\n",
    "需刪除 ![圖片](http/:img.jpg)\n",
    "head 為 ![\n",
    "tail 為 )\n",
    "\n",
    "new_txt 為要轉成的字串\n",
    "\n",
    "\"\"\"\n",
    "\n",
    "def search_text_replace(file_name_list, head: str, tail: str, new_txt: str):\n",
    "    if type(file_name_list) != list: #單個檔案 執行此\n",
    "        \n",
    "        data_text = ''\n",
    "        print('目前檔名是%s' % file_name_list)\n",
    "        with open(file_name_list, \"r\", encoding=\"utf-8\") as f:\n",
    "            for line in f: # 一行一行的讀取到deta_text\n",
    "                data_text +=line #儲存md資料到data_text\n",
    "\n",
    "\n",
    "        find_head = re.search(head, data_text, re.I) #如果不找<figure 請從<figure 改你要的字串\n",
    "        find_head = find_head.span()[0] #開頭index\n",
    "        find_tail = re.search(tail, data_text, re.I)  #如果不找</figure> 請從</figure> 改你要的字串\n",
    "        find_tail = find_tail.span()[1] #結尾index\n",
    "\n",
    "        get_result = data_text[find_head:find_tail]\n",
    "        print('目前 %s 搜尋到的資料為: %s' % (file_name_list, get_result))\n",
    "        # 轉換\n",
    "        data_text = data_text.replace(get_result, new_txt)\n",
    "\n",
    "        # alter(file, old_str = get_figure, new_str = add_img) #轉換文字並寫入檔案\n",
    "\n",
    "        with open(file_name_list,\"w\",encoding=\"utf-8\") as f:\n",
    "            f.write(data_text)\n",
    "\n",
    "            print('寫入 檔案 完成修改')\n",
    "            ## 寫入 檔案 完成修改\n",
    "    else: # 檔案很多個的話則會執行此\n",
    "        for file in file_name_list: \n",
    "            data_text = ''\n",
    "            print('目前檔名是%s' % file)\n",
    "            with open(file, \"r\", encoding=\"utf-8\") as f:\n",
    "                for line in f: # 一行一行的讀取到deta_text\n",
    "                    data_text +=line #儲存md資料到data_text\n",
    "\n",
    "            try:\n",
    "                find_head = re.search(head, data_text, re.I) \n",
    "                find_head = find_head.span()[0] #開頭index\n",
    "                find_tail = re.search(tail, data_text, re.I)\n",
    "                find_tail = find_tail.span()[1] #結尾index\n",
    "            except:\n",
    "                print(\"找不到字串\")\n",
    "                continue\n",
    "\n",
    "            get_result = data_text[find_head:find_tail]\n",
    "            print('目前搜尋到的資料為: %s' % get_result)\n",
    "            print('目前 %s 搜尋到的資料為: %s' % (file, get_result))\n",
    "            \n",
    "            # 轉換\n",
    "            data_text = data_text.replace(get_result, new_txt)\n",
    "\n",
    "            # alter(file, old_str = get_figure, new_str = add_img) #轉換文字並寫入檔案\n",
    "\n",
    "            with open(file,\"w\",encoding=\"utf-8\") as f:\n",
    "                f.write(data_text)\n",
    "\n",
    "            print('寫入 檔案 完成修改')\n",
    "            ## 寫入 檔案 完成修改"
   ]
  },
  {
   "cell_type": "code",
   "execution_count": null,
   "metadata": {},
   "outputs": [],
   "source": [
    "# 單個檔案使用方法\n",
    "\"\"\"\n",
    "說明\n",
    "search_text_replace('檔名', 'head', \"tail\", \"new_str\")\n",
    "\"\"\"\n",
    "\n",
    "# 實際運用\n",
    "search_text_replace('123.md', 'amazonS3_cache:', \"'a:0:{}'\", \"\")"
   ]
  },
  {
   "cell_type": "code",
   "execution_count": null,
   "metadata": {},
   "outputs": [],
   "source": [
    "#多個檔案使用方法 \n",
    "# 讀取所有md檔案\n",
    "file_list = glob.glob('*.md') # 當前目錄的所有md檔案\n",
    "\n",
    "# 實際運用\n",
    "search_text_replace(file_list, 'amazonS3_cache:', \"'a:0:{}'\", \"\")\n"
   ]
  },
  {
   "cell_type": "code",
   "execution_count": null,
   "metadata": {},
   "outputs": [],
   "source": [
    "def strat_go(number):\n",
    "    for i in range(1,number+1): # 二選一 ，#是註解 請註解掉\n",
    "        # search_text_replace('檔名', 'amazonS3_cache:', \"'a:0:{}'\", \"\")\n",
    "        search_text_replace(file_list, 'amazonS3_cache:', \"'a:0:{}'\", \"\")       "
   ]
  },
  {
   "cell_type": "code",
   "execution_count": null,
   "metadata": {},
   "outputs": [],
   "source": [
    "# 執行\n",
    "# strat_go(20) 跑個20次 "
   ]
  },
  {
   "cell_type": "markdown",
   "metadata": {},
   "source": [
    "# 多功能改資料\n",
    "\n",
    "例子：\n",
    "\n",
    "改資料改成{{< img src=\"https//...jpg\" alt=\"\">}}\n",
    "\n",
    "假設一個資料結構\n",
    "\n",
    "`<figure class=\"wp-block-image\"><img src=\"https://aishuafei.com/wp-content/AAAAIMG.jpg\" alt=\"\" class=\"wp-image-1333\" /></figure>`\n",
    "\n",
    "需要轉換成\n",
    "`{{< img src=\"https://aishuafei.com/wp-content/AAAAIMG.jpg\" alt=\"\">}}`"
   ]
  },
  {
   "cell_type": "code",
   "execution_count": 7,
   "metadata": {},
   "outputs": [],
   "source": [
    "def search_text(file_name_list, head, tail):\n",
    "    for file in file_name_list:\n",
    "        find_url = []\n",
    "        data_text = ''\n",
    "        print('目前檔名是%s' % file)\n",
    "        with open(file, \"r\", encoding=\"utf-8\") as f:\n",
    "            for line in f:\n",
    "                data_text +=line #儲存md資料到data_text\n",
    "#             print(daa)\n",
    "\n",
    "        try:\n",
    "            find_head = re.search(head, data_text, re.I) #如果不找<figure 請從<figure 改你要的字串\n",
    "            find_head = find_head.span()[0] #開頭index\n",
    "            find_tail = re.search(tail, data_text, re.I)  #如果不找</figure> 請從</figure> 改你要的字串\n",
    "            find_tail = find_tail.span()[1] #結尾index\n",
    "            get_result = data_text[find_head:find_tail]\n",
    "            \n",
    "            # find image-url \n",
    "            find_url = re.findall(r'(?:http\\:|https\\:)?\\/\\/.*\\.(?:png|jpg|gif)', get_result)\n",
    "        except:\n",
    "            pass\n",
    "\n",
    "        if find_url != []: # 有資料才執行資料轉換，無資料代表沒有找到圖片\n",
    "            # find_url[0]\n",
    "            get_img_url = re.split(\" \", find_url[0])[0].rstrip('\"')\n",
    "            add_img = '{{< img src=\"%s\" alt=\"\">}}' % get_img_url #修改後的結果 從這修改\n",
    "            print(get_img_url)\n",
    "            \n",
    "            # 轉換\n",
    "            data_text = data_text.replace(get_result, add_img)\n",
    "            \n",
    "            # write\n",
    "            with open(file,\"w\",encoding=\"utf-8\") as f:\n",
    "                f.write(data_text)\n",
    "            \n",
    "            \n",
    "            print('寫入 檔案 完成修改')\n",
    "            ## 寫入 檔案 完成修改\n",
    "        else:\n",
    "            print('找不到圖片檔名：%s' % file)\n",
    "            continue #for迴圈再使用\n",
    "            #pass"
   ]
  },
  {
   "cell_type": "code",
   "execution_count": 13,
   "metadata": {
    "scrolled": false
   },
   "outputs": [],
   "source": [
    "file_name_list = glob.glob('posts/*.md') #md檔路徑\n",
    "\n",
    "# search_text(file_name_list, head = \"<figure\", tail = \"</figure>\") #開始執行\n",
    "\n",
    "#執行多次\n",
    "def strat_go(number):\n",
    "    for i in range(1,number+1):\n",
    "        search_text(file_name_list, head = \"<figure\", tail = \"</figure>\") #開始執行"
   ]
  },
  {
   "cell_type": "code",
   "execution_count": null,
   "metadata": {},
   "outputs": [],
   "source": [
    "strat_go(30) #執行個30次"
   ]
  }
 ],
 "metadata": {
  "kernelspec": {
   "display_name": "Python 3.7.7 64-bit ('mytest': conda)",
   "language": "python",
   "name": "python37764bitmytestconda5ec90af2496a4b57b539f1cb24cc76a0"
  },
  "language_info": {
   "codemirror_mode": {
    "name": "ipython",
    "version": 3
   },
   "file_extension": ".py",
   "mimetype": "text/x-python",
   "name": "python",
   "nbconvert_exporter": "python",
   "pygments_lexer": "ipython3",
   "version": "3.7.7"
  },
  "varInspector": {
   "cols": {
    "lenName": 16,
    "lenType": 16,
    "lenVar": 40
   },
   "kernels_config": {
    "python": {
     "delete_cmd_postfix": "",
     "delete_cmd_prefix": "del ",
     "library": "var_list.py",
     "varRefreshCmd": "print(var_dic_list())"
    },
    "r": {
     "delete_cmd_postfix": ") ",
     "delete_cmd_prefix": "rm(",
     "library": "var_list.r",
     "varRefreshCmd": "cat(var_dic_list()) "
    }
   },
   "types_to_exclude": [
    "module",
    "function",
    "builtin_function_or_method",
    "instance",
    "_Feature"
   ],
   "window_display": false
  }
 },
 "nbformat": 4,
 "nbformat_minor": 4
}
