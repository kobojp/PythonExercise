{
 "cells": [
  {
   "cell_type": "markdown",
   "metadata": {},
   "source": [
    "# 取得頁面圖片\n",
    "可能有些網站不適用這個程式碼的頁面擷取"
   ]
  },
  {
   "cell_type": "code",
   "execution_count": 2,
   "metadata": {},
   "outputs": [],
   "source": [
    "import selenium.webdriver.chrome.webdriver\n",
    "import time, os\n",
    "from PIL import Image\n",
    "\n",
    "def chrome_take_full_page_screenshot(browser, file):\n",
    "\n",
    "    browser.maximize_window()    \n",
    "    time.sleep(0.2)\n",
    "\n",
    "    total_width = browser.execute_script(\"return document.body.offsetWidth\")\n",
    "    total_height = browser.execute_script(\"return document.body.parentNode.scrollHeight\")\n",
    "\n",
    "    viewport_width = browser.execute_script(\"return document.body.clientWidth\")\n",
    "    viewport_height = browser.execute_script(\"return window.innerHeight\")\n",
    "\n",
    "    rectangles = []\n",
    "\n",
    "    i = 0\n",
    "    while i < total_height:\n",
    "        ii = 0\n",
    "        top_height = i + viewport_height\n",
    "\n",
    "        if top_height > total_height:\n",
    "            top_height = total_height\n",
    "\n",
    "        while ii < total_width:\n",
    "            top_width = ii + viewport_width\n",
    "\n",
    "            if top_width > total_width:\n",
    "                top_width = total_width\n",
    "\n",
    "            rectangles.append((ii,i,top_width,top_height))\n",
    "            ii = ii + viewport_width\n",
    "        i = i + viewport_height\n",
    "\n",
    "    stitched_image = Image.new('RGB', (total_width, total_height))\n",
    "    previous = None\n",
    "    part = 0    \n",
    "    cache_id = 1\n",
    "    for rectangle in rectangles:\n",
    "        if not previous is None:\n",
    "            browser.execute_script(\"window.scrollTo({0}, {1})\".format(rectangle[0], rectangle[1]))\n",
    "            time.sleep(0.2)\n",
    "    \n",
    "        file_name = \"scroll_{0}_part_{1}.png\".format(cache_id, part)\n",
    "\n",
    "        browser.get_screenshot_as_file(file_name)\n",
    "\n",
    "        screenshot = Image.open(file_name)\n",
    "\n",
    "        if rectangle[1] + viewport_height > total_height:\n",
    "            offset = (rectangle[0], total_height - viewport_height)\n",
    "        else:\n",
    "            offset = (rectangle[0], rectangle[1])\n",
    "        stitched_image.paste(screenshot, offset)\n",
    "\n",
    "        del screenshot\n",
    "\n",
    "        os.remove(file_name)\n",
    "\n",
    "        part = part + 1\n",
    "        previous = rectangle\n",
    "\n",
    "    stitched_image.save(file)\n",
    "\n",
    "        \n",
    "chrome_driver = 'C:/anaconda/chromedriver.exe' #驅動路徑\n",
    "browser = selenium.webdriver.chrome.webdriver.WebDriver(chrome_driver)\n",
    "browser.get(\"https://law.moj.gov.tw/LawClass/LawAll.aspx?pcode=A0000001\") #擷取網址\n",
    "chrome_take_full_page_screenshot(browser, 'C:/anaconda/Fireregulations/img.png') #圖片儲存路徑"
   ]
  },
  {
   "cell_type": "code",
   "execution_count": 7,
   "metadata": {},
   "outputs": [
    {
     "data": {
      "image/png": "[encoded data removed]",
      "text/plain": [
       "<Figure size 432x288 with 1 Axes>"
      ]
     },
     "metadata": {
      "needs_background": "light"
     },
     "output_type": "display_data"
    }
   ],
   "source": [
    "import matplotlib.pyplot as plt \n",
    "img = Image.open('C:/anaconda/Fireregulations/img.png')\n",
    "# img.show() #視窗開圖\n",
    "\n",
    "plt.imshow(img)\n",
    "plt.axis('on') # 關掉坐標軸為 off\n",
    "plt.title('image') # 圖像題目\n",
    "plt.show()"
   ]
  },
  {
   "cell_type": "code",
   "execution_count": 8,
   "metadata": {},
   "outputs": [],
   "source": [
    "from selenium import webdriver\n",
    "from time import sleep\n",
    "from selenium.webdriver.common.by import By\n",
    "from selenium.webdriver.common.action_chains import ActionChains\n",
    "from PIL import Image\n",
    "import PIL\n",
    "PIL.Image.MAX_IMAGE_PIXELS = 933120000 #如果圖片pixels很大 設定高一點\n",
    "\n",
    "url=\"https://law.moj.gov.tw/LawClass/LawAll.aspx?pcode=A0000001\"\n",
    "driver=webdriver.Chrome(\"C:/anaconda/chromedriver.exe\") #驅動 路徑請設定自己的檔案路徑\n",
    "driver.get(url)\n",
    "driver.maximize_window()\n",
    "\n",
    "sleep(0.3)\n",
    "\n",
    "content = driver.find_element(By.XPATH, '//*[@id=\"pnLawFla\"]/div/div[165]') #元素位置 #例如：憲法第146條\n",
    "\n",
    "\n",
    "driver.execute_script(\"arguments[0].scrollIntoView();\", content) #滾動到元素\n",
    "\n",
    "sleep(0.3)\n",
    "\n",
    "\n",
    "#取得元素尺寸大小\n",
    "left=content.location['x']\n",
    "top=content.location['y']\n",
    "right=content.location['x'] + content.size['width']\n",
    "bottom=content.location['y'] + content.size['height']\n",
    "\n",
    "\n",
    "img=Image.open(\"C:/anaconda/Fireregulations/img.png\") #開啟整頁圖片\n",
    "img2=img.crop((left,top,right,bottom)) #切圖\n",
    "img2.save('C:/anaconda/Fireregulations/crop.png') #切圖儲存\n",
    "\n",
    "# print(left)\n",
    "# print(top)\n",
    "# print(right)\n",
    "# print(bottom)\n",
    "\n",
    "driver.close()"
   ]
  },
  {
   "cell_type": "code",
   "execution_count": 9,
   "metadata": {},
   "outputs": [
    {
     "data": {
      "image/png": "[encoded data removed]",
      "text/plain": [
       "<Figure size 432x288 with 1 Axes>"
      ]
     },
     "metadata": {
      "needs_background": "light"
     },
     "output_type": "display_data"
    }
   ],
   "source": [
    "import matplotlib.pyplot as plt \n",
    "img = Image.open('C:/anaconda/Fireregulations/crop.png')\n",
    "# img.show() #視窗開圖\n",
    "\n",
    "plt.imshow(img)\n",
    "plt.axis('on') # 關掉坐標軸為 off\n",
    "plt.title('image') # 圖像題目\n",
    "plt.show()"
   ]
  },
  {
   "cell_type": "code",
   "execution_count": null,
   "metadata": {},
   "outputs": [],
   "source": []
  }
 ],
 "metadata": {
  "kernelspec": {
   "display_name": "Python 3.7.4 64-bit ('base': conda)",
   "language": "python",
   "name": "python36764bitbaseconda9a90f2598c134799afb1054108d8c992"
  },
  "language_info": {
   "codemirror_mode": {
    "name": "ipython",
    "version": 3
   },
   "file_extension": ".py",
   "mimetype": "text/x-python",
   "name": "python",
   "nbconvert_exporter": "python",
   "pygments_lexer": "ipython3",
   "version": "3.7.6"
  },
  "varInspector": {
   "cols": {
    "lenName": 16,
    "lenType": 16,
    "lenVar": 40
   },
   "kernels_config": {
    "python": {
     "delete_cmd_postfix": "",
     "delete_cmd_prefix": "del ",
     "library": "var_list.py",
     "varRefreshCmd": "print(var_dic_list())"
    },
    "r": {
     "delete_cmd_postfix": ") ",
     "delete_cmd_prefix": "rm(",
     "library": "var_list.r",
     "varRefreshCmd": "cat(var_dic_list()) "
    }
   },
   "types_to_exclude": [
    "module",
    "function",
    "builtin_function_or_method",
    "instance",
    "_Feature"
   ],
   "window_display": true
  }
 },
 "nbformat": 4,
 "nbformat_minor": 4
}
