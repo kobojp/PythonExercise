{
 "cells": [
  {
   "cell_type": "markdown",
   "metadata": {},
   "source": [
    "# [教學網站-莫凡](https://morvanzhou.github.io/tutorials/python-basic/threading/2-add-thread/)\n",
    "# [官方文檔](https://docs.python.org/zh-cn/3/library/threading.html?highlight=thread#thread-local-data)\n",
    "# [GTW教學](https://blog.gtwang.org/programming/python-threading-multithreaded-programming-tutorial/)"
   ]
  },
  {
   "cell_type": "code",
   "execution_count": 1,
   "metadata": {},
   "outputs": [],
   "source": [
    "import threading"
   ]
  },
  {
   "cell_type": "markdown",
   "metadata": {},
   "source": [
    "# 取得目前的線程數量"
   ]
  },
  {
   "cell_type": "code",
   "execution_count": 8,
   "metadata": {},
   "outputs": [
    {
     "data": {
      "text/plain": [
       "5"
      ]
     },
     "execution_count": 8,
     "metadata": {},
     "output_type": "execute_result"
    }
   ],
   "source": [
    "threading.active_count()"
   ]
  },
  {
   "cell_type": "markdown",
   "metadata": {},
   "source": [
    "# 查詢目前線程資訊"
   ]
  },
  {
   "cell_type": "code",
   "execution_count": 5,
   "metadata": {},
   "outputs": [
    {
     "data": {
      "text/plain": [
       "[<_MainThread(MainThread, started 52140)>,\n",
       " <Thread(Thread-4, started daemon 30592)>,\n",
       " <Heartbeat(Thread-5, started daemon 1732)>,\n",
       " <HistorySavingThread(IPythonHistorySavingThread, started 18116)>,\n",
       " <ParentPollerWindows(Thread-3, started daemon 26468)>]"
      ]
     },
     "execution_count": 5,
     "metadata": {},
     "output_type": "execute_result"
    }
   ],
   "source": [
    "threading.enumerate()\n",
    "#輸出的結果是一個<_MainThread(...)>帶多個<Thread(...)>。"
   ]
  },
  {
   "cell_type": "markdown",
   "metadata": {},
   "source": [
    "# 查詢目前正在執行的線程"
   ]
  },
  {
   "cell_type": "code",
   "execution_count": 6,
   "metadata": {},
   "outputs": [
    {
     "data": {
      "text/plain": [
       "<_MainThread(MainThread, started 52140)>"
      ]
     },
     "execution_count": 6,
     "metadata": {},
     "output_type": "execute_result"
    }
   ],
   "source": [
    "threading.current_thread()"
   ]
  },
  {
   "cell_type": "markdown",
   "metadata": {},
   "source": [
    "# 添加線程，threading.Thread()接收參數target代表這個線程要完成的任務，需自行定義"
   ]
  },
  {
   "cell_type": "code",
   "execution_count": 7,
   "metadata": {},
   "outputs": [
    {
     "name": "stdout",
     "output_type": "stream",
     "text": [
      "This is a thread of <Thread(Thread-6, started 22768)>\n"
     ]
    }
   ],
   "source": [
    "def thread_job():\n",
    "    print('This is a thread of %s' % threading.current_thread())\n",
    "\n",
    "def main():\n",
    "    thread = threading.Thread(target=thread_job,)   # 增加定義線程 \n",
    "    thread.start()  # 讓線程開始工作\n",
    "    \n",
    "if __name__ == '__main__':\n",
    "    main()"
   ]
  },
  {
   "cell_type": "markdown",
   "metadata": {},
   "source": [
    "# join()功能 等待所有工作完成"
   ]
  },
  {
   "cell_type": "markdown",
   "metadata": {},
   "source": [
    "## 不加 join() 的結果\n",
    "### 我們讓 T1 線程工作的耗時增加"
   ]
  },
  {
   "cell_type": "code",
   "execution_count": 2,
   "metadata": {
    "code_folding": []
   },
   "outputs": [
    {
     "name": "stdout",
     "output_type": "stream",
     "text": [
      "T1 start\n",
      "all done\n",
      "\n",
      "\n"
     ]
    }
   ],
   "source": [
    "import threading\n",
    "import time\n",
    "def thread_job():\n",
    "    print(\"T1 start\\n\")\n",
    "    for i in range(10):\n",
    "        time.sleep(0.1) # 任務間隔0.1s\n",
    "    print(\"T1 finish\\n\")\n",
    "\n",
    "def main():\n",
    "    added_thread = threading.Thread(target=thread_job, name='T1')\n",
    "    added_thread.start()\n",
    "    print(\"all done\\n\")\n",
    "    \n",
    "if __name__ == '__main__':\n",
    "    main()"
   ]
  },
  {
   "cell_type": "markdown",
   "metadata": {},
   "source": [
    "## 預想結果應該為\n",
    "T1 start <br />\n",
    "T1 finish <br />\n",
    "all done <br />\n",
    "## 但是實際是\n",
    "T1 start <br />\n",
    "all done <br />\n",
    "T1 finish <br />"
   ]
  },
  {
   "cell_type": "markdown",
   "metadata": {},
   "source": [
    "# 加入 join() 的結果\n",
    "線程任務還未完成便輸出all done。如果要遵循順序，可以在啟動線程後對它調用join：<br />\n",
    "added_thread.start() <br />\n",
    "added_thread.join() <br />\n",
    "print(\"all done\\n\") <br />"
   ]
  },
  {
   "cell_type": "markdown",
   "metadata": {},
   "source": [
    "## 使用join對控制多個線程的執行順序非常關鍵。舉個例子，假設我們現在再加一個線程T2，T2的任務量較小，會比T1更快完成："
   ]
  },
  {
   "cell_type": "code",
   "execution_count": 7,
   "metadata": {},
   "outputs": [
    {
     "name": "stdout",
     "output_type": "stream",
     "text": [
      "T1 start\n",
      "\n",
      "T2 start\n",
      "\n",
      "T2 finish\n",
      "\n",
      "all done\n",
      "\n"
     ]
    }
   ],
   "source": [
    "import threading\n",
    "import time\n",
    "def T1_job():\n",
    "    print(\"T1 start\\n\")\n",
    "    for i in range(10):\n",
    "        time.sleep(0.1)\n",
    "    print(\"T1 finish\\n\")\n",
    "\n",
    "def T2_job():\n",
    "    print(\"T2 start\\n\")\n",
    "    print(\"T2 finish\\n\")\n",
    "\n",
    "thread_1 = threading.Thread(target=T1_job, name='T1')\n",
    "thread_2 = threading.Thread(target=T2_job, name='T2')\n",
    "thread_1.start() # 開啟T1\n",
    "thread_2.start() # 開啟T2\n",
    "print(\"all done\\n\")\n",
    "#因jupyter notebook 關西 無法顯示等待跑較慢的range結果"
   ]
  },
  {
   "cell_type": "markdown",
   "metadata": {},
   "source": [
    "## 結果為\n",
    "T1 start <br />\n",
    "T2 start <br />\n",
    "T2 finish <br />\n",
    "all done <br />\n",
    "T1 finish <br />"
   ]
  },
  {
   "cell_type": "markdown",
   "metadata": {},
   "source": [
    "## 現在T1和T2都沒有join，注意這裡說”一種”是因為all done的出現完全取決於兩個線程的執行速度， 完全有可能T2 finish出現在all done之後。這種雜亂的執行方式是我們不能忍受的，因此要使用join加以控制。"
   ]
  },
  {
   "cell_type": "markdown",
   "metadata": {},
   "source": [
    "## 我們試試在T1啟動後，T2啟動前加上thread_1.join():\n",
    "    thread_1.start()\n",
    "    thread_1.join() # notice the difference! \n",
    "    thread_2.start()\n",
    "    print(\"all done\\n\")"
   ]
  },
  {
   "cell_type": "code",
   "execution_count": 5,
   "metadata": {},
   "outputs": [
    {
     "name": "stdout",
     "output_type": "stream",
     "text": [
      "T1 start\n",
      "\n",
      "T1 finish\n",
      "\n",
      "T2 start\n",
      "all done\n",
      "\n",
      "\n",
      "T2 finish\n",
      "\n"
     ]
    }
   ],
   "source": [
    "import threading\n",
    "import time\n",
    "def T1_job():\n",
    "    print(\"T1 start\\n\")\n",
    "    for i in range(10):\n",
    "        time.sleep(0.1)\n",
    "    print(\"T1 finish\\n\")\n",
    "\n",
    "def T2_job():\n",
    "    print(\"T2 start\\n\")\n",
    "    print(\"T2 finish\\n\")\n",
    "\n",
    "thread_1 = threading.Thread(target=T1_job, name='T1')\n",
    "thread_2 = threading.Thread(target=T2_job, name='T2')\n",
    "thread_1.start() # 開啟T1\n",
    "thread_1.join() # notice the difference!\n",
    "thread_2.start() # 開啟T2\n",
    "print(\"all done\\n\")"
   ]
  },
  {
   "cell_type": "markdown",
   "metadata": {},
   "source": [
    "## 結果為\n",
    "    T1 start\n",
    "    T1 finish\n",
    "    T2 start\n",
    "    all done\n",
    "    T2 finish\n",
    "可以看到，T2會等待T1結束後才開始運行。"
   ]
  },
  {
   "cell_type": "markdown",
   "metadata": {},
   "source": [
    "## 如果我們在T2啟動後放上thread_1.join()會怎麼樣呢？\n",
    "    thread_1.start()\n",
    "    thread_2.start()\n",
    "    thread_1.join() # notice the difference!\n",
    "    print(\"all done\\n\")"
   ]
  },
  {
   "cell_type": "code",
   "execution_count": 9,
   "metadata": {},
   "outputs": [
    {
     "name": "stdout",
     "output_type": "stream",
     "text": [
      "T1 start\n",
      "\n",
      "T2 start\n",
      "\n",
      "T2 finish\n",
      "\n",
      "T1 finish\n",
      "\n",
      "all done\n",
      "\n"
     ]
    }
   ],
   "source": [
    "import threading\n",
    "import time\n",
    "def T1_job():\n",
    "    print(\"T1 start\\n\")\n",
    "    for i in range(10):\n",
    "        time.sleep(0.1)\n",
    "    print(\"T1 finish\\n\")\n",
    "\n",
    "def T2_job():\n",
    "    print(\"T2 start\\n\")\n",
    "    print(\"T2 finish\\n\")\n",
    "\n",
    "thread_1 = threading.Thread(target=T1_job, name='T1')\n",
    "thread_2 = threading.Thread(target=T2_job, name='T2')\n",
    "thread_1.start() # 開啟T1\n",
    "thread_2.start() # 開啟T2\n",
    "thread_1.join() # notice the difference! 這樣T1就會跟著T2一起執行\n",
    "print(\"all done\\n\")"
   ]
  },
  {
   "cell_type": "markdown",
   "metadata": {},
   "source": [
    "## 結果 \n",
    "    T1 start\n",
    "    T2 start\n",
    "    T2 finish\n",
    "    T1 finish\n",
    "    all done\n",
    "T2在T1之後啟動，並且因為T2任務量小會在T1之前完成；而T1也因為加了join，all done在它完成後才顯示。"
   ]
  },
  {
   "cell_type": "markdown",
   "metadata": {},
   "source": [
    "## 你也可以添加thread_2.join()進行嘗試，但為了規避不必要的麻煩，推薦如下這種1221的V型排布：\n",
    "    thread_1.start() # start T1\n",
    "    thread_2.start() # start T2\n",
    "    thread_2.join() # join for T2\n",
    "    thread_1.join() # join for T1\n",
    "    print(\"all done\\n\")\n",
    "\n",
    "    \"\"\"\n",
    "    T1 start\n",
    "    T2 start\n",
    "    T2 finish\n",
    "    T1 finish\n",
    "    all done\n",
    "    \"\"\""
   ]
  },
  {
   "cell_type": "code",
   "execution_count": 10,
   "metadata": {},
   "outputs": [
    {
     "name": "stdout",
     "output_type": "stream",
     "text": [
      "T1 start\n",
      "\n",
      "T2 start\n",
      "\n",
      "T2 finish\n",
      "\n",
      "T1 finish\n",
      "\n",
      "all done\n",
      "\n"
     ]
    }
   ],
   "source": [
    "import threading\n",
    "import time\n",
    "def T1_job():\n",
    "    print(\"T1 start\\n\")\n",
    "    for i in range(10):\n",
    "        time.sleep(0.1)\n",
    "    print(\"T1 finish\\n\")\n",
    "\n",
    "def T2_job():\n",
    "    print(\"T2 start\\n\")\n",
    "    print(\"T2 finish\\n\")\n",
    "\n",
    "thread_1 = threading.Thread(target=T1_job, name='T1')\n",
    "thread_2 = threading.Thread(target=T2_job, name='T2')\n",
    "thread_1.start() # 開啟T1\n",
    "thread_2.start() # 開啟T2\n",
    "thread_2.join() # join for T2\n",
    "thread_1.join() # join for T1\n",
    "print(\"all done\\n\")"
   ]
  },
  {
   "cell_type": "markdown",
   "metadata": {},
   "source": [
    "# 儲存進程結果 Queue\n",
    "    因為threading沒有返回值\n",
    "    代碼實現功能，將數據列表中的數據傳入，使用四個線程處理，將結果保存在Queue中，線程執行完後，從Queue中獲取存儲的結果"
   ]
  },
  {
   "cell_type": "code",
   "execution_count": 11,
   "metadata": {},
   "outputs": [],
   "source": [
    "#導入線程,隊列的標準模塊 \n",
    "import threading\n",
    "import time\n",
    "from queue import Queue"
   ]
  },
  {
   "cell_type": "markdown",
   "metadata": {},
   "source": [
    "# 定義一個被多線程調用的函數\n",
    "##### 函數的參數是一個列表l和一個隊列q，函數的功能是，對列表的每個元素進行平方計算，將結果保存在隊列中\n"
   ]
  },
  {
   "cell_type": "code",
   "execution_count": 12,
   "metadata": {},
   "outputs": [],
   "source": [
    "def job(l,q):\n",
    "    for i in range (len(l)):\n",
    "        l[i] = l[i]**2\n",
    "    q.put(l)   #多線程調用的函數不能用return返回值, 意思是 item 放入隊列"
   ]
  },
  {
   "cell_type": "markdown",
   "metadata": {},
   "source": [
    "# 定義一個多線程函數"
   ]
  },
  {
   "cell_type": "markdown",
   "metadata": {},
   "source": [
    "#### 在多線程函數中定義一個Queue，用來保存返回值，代替return，定義一個多線程列表，初始化一個多維數據列表，用來處理："
   ]
  },
  {
   "cell_type": "code",
   "execution_count": 15,
   "metadata": {},
   "outputs": [],
   "source": [
    "def multithreading():\n",
    "    q =Queue()    #q中存放返回值，代替return的返回值\n",
    "    threads = []\n",
    "    data = [[1,2,3],[3,4,5],[4,4,4],[5,5,5]]"
   ]
  },
  {
   "cell_type": "markdown",
   "metadata": {},
   "source": [
    "#### 在多線程函數中定義四個線程，啟動線程，將每個線程添加到多線程的列表中"
   ]
  },
  {
   "cell_type": "code",
   "execution_count": null,
   "metadata": {},
   "outputs": [],
   "source": [
    "for i in range(4):   #定義四個線程\n",
    "    t = threading.Thread(target=job,args=(data[i],q)) #Thread首字母要大寫，被調用的job函數沒有括號，只是一個索引，參數在後面\n",
    "    t.start()#開始線程\n",
    "    threads.append(t) #把每個線程append到線程列表中"
   ]
  },
  {
   "cell_type": "markdown",
   "metadata": {},
   "source": [
    "#### 分別join四個線程到主線程"
   ]
  },
  {
   "cell_type": "code",
   "execution_count": null,
   "metadata": {},
   "outputs": [],
   "source": [
    "for thread in threads:\n",
    "    thread.join()"
   ]
  },
  {
   "cell_type": "markdown",
   "metadata": {},
   "source": [
    "#### 定義一個空的列表results，將四個線運行後保存在隊列中的結果返回給空列表results"
   ]
  },
  {
   "cell_type": "code",
   "execution_count": null,
   "metadata": {},
   "outputs": [],
   "source": [
    "results = []\n",
    "for _ in range(4):\n",
    "    results.append(q.get())  #q.get()按順序從q中拿出一個值\n",
    "print(results)"
   ]
  },
  {
   "cell_type": "markdown",
   "metadata": {},
   "source": [
    "#### 完整代碼"
   ]
  },
  {
   "cell_type": "code",
   "execution_count": null,
   "metadata": {},
   "outputs": [],
   "source": [
    "import threading\n",
    "import time\n",
    "\n",
    "from queue import Queue\n",
    "\n",
    "def job(l,q):\n",
    "    for i in range (len(l)):\n",
    "        l[i] = l[i]**2  #2次方\n",
    "    q.put(l)\n",
    "\n",
    "def multithreading():\n",
    "    q =Queue()\n",
    "    threads = []\n",
    "    data = [[1,2,3],[3,4,5],[4,4,4],[5,5,5]]\n",
    "    for i in range(4):\n",
    "        t = threading.Thread(target=job,args=(data[i],q))\n",
    "        t.start()\n",
    "        threads.append(t)\n",
    "    for thread in threads:\n",
    "        thread.join()\n",
    "    results = []\n",
    "    for _ in range(4):\n",
    "        results.append(q.get())\n",
    "    print(results)\n",
    "\n",
    "if __name___=='__main__':\n",
    "    multithreading()"
   ]
  },
  {
   "cell_type": "markdown",
   "metadata": {},
   "source": [
    "#### 結果"
   ]
  },
  {
   "cell_type": "code",
   "execution_count": null,
   "metadata": {},
   "outputs": [],
   "source": [
    "[[1, 4, 9], [9, 16, 25], [16, 16, 16], [25, 25, 25]]"
   ]
  },
  {
   "cell_type": "code",
   "execution_count": 24,
   "metadata": {},
   "outputs": [],
   "source": [
    "f = lambda a,b,c:a if a > b else c if c > a else 0"
   ]
  },
  {
   "cell_type": "code",
   "execution_count": 27,
   "metadata": {},
   "outputs": [
    {
     "data": {
      "text/plain": [
       "800"
      ]
     },
     "execution_count": 27,
     "metadata": {},
     "output_type": "execute_result"
    }
   ],
   "source": [
    "f(1,10,800)"
   ]
  },
  {
   "cell_type": "code",
   "execution_count": null,
   "metadata": {},
   "outputs": [],
   "source": []
  }
 ],
 "metadata": {
  "kernelspec": {
   "display_name": "Python 3",
   "language": "python",
   "name": "python3"
  },
  "language_info": {
   "codemirror_mode": {
    "name": "ipython",
    "version": 3
   },
   "file_extension": ".py",
   "mimetype": "text/x-python",
   "name": "python",
   "nbconvert_exporter": "python",
   "pygments_lexer": "ipython3",
   "version": "3.7.6"
  },
  "varInspector": {
   "cols": {
    "lenName": 16,
    "lenType": 16,
    "lenVar": 40
   },
   "kernels_config": {
    "python": {
     "delete_cmd_postfix": "",
     "delete_cmd_prefix": "del ",
     "library": "var_list.py",
     "varRefreshCmd": "print(var_dic_list())"
    },
    "r": {
     "delete_cmd_postfix": ") ",
     "delete_cmd_prefix": "rm(",
     "library": "var_list.r",
     "varRefreshCmd": "cat(var_dic_list()) "
    }
   },
   "position": {
    "height": "144.444px",
    "left": "1729.32px",
    "right": "20px",
    "top": "160.993px",
    "width": "350px"
   },
   "types_to_exclude": [
    "module",
    "function",
    "builtin_function_or_method",
    "instance",
    "_Feature"
   ],
   "window_display": true
  }
 },
 "nbformat": 4,
 "nbformat_minor": 2
}
