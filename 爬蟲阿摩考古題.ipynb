{
 "cells": [
  {
   "cell_type": "code",
   "execution_count": null,
   "metadata": {},
   "outputs": [],
   "source": [
    "from bs4 import BeautifulSoup as bs4\n",
    "import requests\n",
    "import re\n",
    "import pandas as pd\n",
    "\n",
    "# urla = []\n",
    "# #aList.append(\"我是第三個\");\n",
    "# while True:\n",
    "#     urlput = input(\"請輸入網址,如果要取消請輸入exit\")\n",
    "#     urla.append(urlput);\n",
    "#     print(urla)\n",
    "#     if urla == \"exit\":\n",
    "#         break\n",
    "# #在len中 使用-1 減少一個長度 = 等於不跑 exit的字串\n",
    "\n",
    "\n",
    "put = input(\"輸入搜尋關鍵字: \")\n",
    "urla = [\"https://yamol.tw/exam.php?id=76567\", \"https://yamol.tw/exam.php?id=69674\", \"https://yamol.tw/exam.php?id=69524\", \"https://yamol.tw/exam.php?id=52569\", \"https://yamol.tw/exam.php?id=22660\"]\n",
    "\n",
    "    \n",
    "for a in range(0,len(urla)): #注意這裡的-1 是為了不抓取到 exit字串\n",
    "    url = urla[a]\n",
    "    reqget = requests.get(url)\n",
    "    text = reqget.text \n",
    "    html = bs4(text, \"html.parser\")# html 或 lxml二選一\n",
    "    lxml = bs4(text, \"lxml\") #\n",
    "#print(lxml.prettify()) 觀察html\n",
    "    key = lxml.find_all(text=re.compile(put)) #搜尋關鍵字 列出關鍵字題目及選擇題選項\n",
    "    css = lxml.find_all(\"span\", class_=\"itemcontent\") #抓選擇題tag class\n",
    "    for i in css:\n",
    "        #ab = i.prettify(formatter=\"html5\")\n",
    "        h1 = lxml.h1.get_text() #網頁標題\n",
    "        data = i.get_text() #選擇題目\n",
    "#         print()\n",
    "#         print(h1)\n",
    "#         print(data)\n",
    "#print(key)\n",
    "\n",
    "print(\"你搜尋的關鍵字\" + \"'\" + put + \"'\" + \"共有\" + \"'\" + str(len(key)) + \"'\" + \"筆\")\n",
    "print()\n",
    "select = pd.Series(key)  \n",
    "print(select)\n",
    "\n",
    "#正規(則)表達練習    \n",
    "# for title in html.find_all(re.compile('h[1-6]')):\n",
    "#     print(title.text.strip())"
   ]
  }
 ],
 "metadata": {
  "kernelspec": {
   "display_name": "Python 3",
   "language": "python",
   "name": "python3"
  },
  "language_info": {
   "codemirror_mode": {
    "name": "ipython",
    "version": 3
   },
   "file_extension": ".py",
   "mimetype": "text/x-python",
   "name": "python",
   "nbconvert_exporter": "python",
   "pygments_lexer": "ipython3",
   "version": "3.6.7"
  }
 },
 "nbformat": 4,
 "nbformat_minor": 2
}
